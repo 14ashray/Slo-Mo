{
 "cells": [
  {
   "cell_type": "code",
   "execution_count": 14,
   "metadata": {},
   "outputs": [],
   "source": [
    "import torch\n",
    "import torch.nn as nn\n",
    "import torch.nn.init as init\n",
    "from torch.autograd import Variable, gradcheck\n",
    "import torch.optim as optim\n"
   ]
  },
  {
   "cell_type": "code",
   "execution_count": 2,
   "metadata": {},
   "outputs": [
    {
     "name": "stdout",
     "output_type": "stream",
     "text": [
      "importing Jupyter notebook from separable_convolution.ipynb\n",
      "importing Jupyter notebook from dataset_preparation.ipynb\n"
     ]
    }
   ],
   "source": [
    "import import_ipynb\n",
    "import separable_convolution\n",
    "import dataset_preparation"
   ]
  },
  {
   "cell_type": "code",
   "execution_count": 3,
   "metadata": {},
   "outputs": [],
   "source": [
    "# !pip install import-ipynb"
   ]
  },
  {
   "cell_type": "code",
   "execution_count": 4,
   "metadata": {},
   "outputs": [],
   "source": [
    "OUTPUT_1D_KERNEL_SIZE: int = 51\n",
    "EPOCHS: int = 10\n",
    "BATCH_SIZE: int = 100"
   ]
  },
  {
   "cell_type": "code",
   "execution_count": 5,
   "metadata": {},
   "outputs": [],
   "source": [
    "class Net(nn.Module):\n",
    "\n",
    "    def __init__(self, init_weights=True):\n",
    "        super(Net, self).__init__()\n",
    "\n",
    "        conv_kernel = (3, 3)\n",
    "        conv_stride = (1, 1)\n",
    "        conv_padding = 1\n",
    "        sep_kernel = OUTPUT_1D_KERNEL_SIZE\n",
    "\n",
    "        self.pool = nn.AvgPool2d(kernel_size=(2, 2), stride=(2, 2))\n",
    "        self.upsamp = nn.Upsample(scale_factor=2, mode='bilinear', align_corners=True)\n",
    "        self.relu = nn.ReLU()\n",
    "\n",
    "        self.conv32 = self._conv_module(6, 32, conv_kernel, conv_stride, conv_padding, self.relu)\n",
    "        self.conv64 = self._conv_module(32, 64, conv_kernel, conv_stride, conv_padding, self.relu)\n",
    "        self.conv128 = self._conv_module(64, 128, conv_kernel, conv_stride, conv_padding, self.relu)\n",
    "        self.conv256 = self._conv_module(128, 256, conv_kernel, conv_stride, conv_padding, self.relu)\n",
    "        self.conv512 = self._conv_module(256, 512, conv_kernel, conv_stride, conv_padding, self.relu)\n",
    "        self.conv512x512 = self._conv_module(512, 512, conv_kernel, conv_stride, conv_padding, self.relu)\n",
    "        self.upsamp512 = self._upsample_module(512, 512, conv_kernel, conv_stride, conv_padding, self.upsamp, self.relu)\n",
    "        self.upconv256 = self._conv_module(512, 256, conv_kernel, conv_stride, conv_padding, self.relu)\n",
    "        self.upsamp256 = self._upsample_module(256, 256, conv_kernel, conv_stride, conv_padding, self.upsamp, self.relu)\n",
    "        self.upconv128 = self._conv_module(256, 128, conv_kernel, conv_stride, conv_padding, self.relu)\n",
    "        self.upsamp128 = self._upsample_module(128, 128, conv_kernel, conv_stride, conv_padding, self.upsamp, self.relu)\n",
    "        self.upconv64 = self._conv_module(128, 64, conv_kernel, conv_stride, conv_padding, self.relu)\n",
    "        self.upsamp64 = self._upsample_module(64, 64, conv_kernel, conv_stride, conv_padding, self.upsamp, self.relu)\n",
    "        self.upconv51_1 = self._kernel_module(64, sep_kernel, conv_kernel, conv_stride, conv_padding, self.upsamp, self.relu)\n",
    "        self.upconv51_2 = self._kernel_module(64, sep_kernel, conv_kernel, conv_stride, conv_padding, self.upsamp, self.relu)\n",
    "        self.upconv51_3 = self._kernel_module(64, sep_kernel, conv_kernel, conv_stride, conv_padding, self.upsamp, self.relu)\n",
    "        self.upconv51_4 = self._kernel_module(64, sep_kernel, conv_kernel, conv_stride, conv_padding, self.upsamp, self.relu)\n",
    "\n",
    "        self.pad = nn.ReplicationPad2d(sep_kernel // 2)\n",
    "\n",
    " \n",
    "        self.separable_conv = separable_convolution.SeparableConvolutionSlow()\n",
    "\n",
    "        if init_weights:\n",
    "            print('Initializing weights...')\n",
    "            self.apply(self._weight_init)\n",
    "\n",
    "    @staticmethod\n",
    "    def from_file(file_path: str) -> nn.Module :\n",
    "        model = Net(init_weights=False)\n",
    "        state_dict = torch.load(file_path)\n",
    "        model.load_state_dict(state_dict)\n",
    "        return model\n",
    "\n",
    "    def to_file(self, file_path: str):\n",
    "        torch.save(self.cpu().state_dict(), file_path)\n",
    "\n",
    "#     def interpolate(self, *args):\n",
    "#         return interpol.interpolate(self, *args)\n",
    "\n",
    "#     def interpolate_f(self, *args):\n",
    "#         return interpol.interpolate_f(self, *args)\n",
    "\n",
    "#     def interpolate_batch(self, *args):\n",
    "#         return interpol.interpolate_batch(self, *args)\n",
    "\n",
    "    def forward(self, x):\n",
    "\n",
    "        i1 = x[:, :3]\n",
    "        i2 = x[:, 3:6]\n",
    "\n",
    "\n",
    "        x = self.conv32(x)\n",
    "        x = self.pool(x)\n",
    "\n",
    "        x64 = self.conv64(x)\n",
    "        x128 = self.pool(x64)\n",
    "\n",
    "        x128 = self.conv128(x128)\n",
    "        x256 = self.pool(x128)\n",
    "\n",
    "        x256 = self.conv256(x256)\n",
    "        x512 = self.pool(x256)\n",
    "\n",
    "        x512 = self.conv512(x512)\n",
    "        x = self.pool(x512)\n",
    "\n",
    "        x = self.conv512x512(x)\n",
    "\n",
    "        x = self.upsamp512(x)\n",
    "        x += x512\n",
    "        x = self.upconv256(x)\n",
    "\n",
    "        x = self.upsamp256(x)\n",
    "        x += x256\n",
    "        x = self.upconv128(x)\n",
    "\n",
    "        x = self.upsamp128(x)\n",
    "        x += x128\n",
    "        x = self.upconv64(x)\n",
    "\n",
    "        x = self.upsamp64(x)\n",
    "        x += x64\n",
    "\n",
    "        k2h = self.upconv51_1(x)\n",
    "\n",
    "        k2v = self.upconv51_2(x)\n",
    "\n",
    "        k1h = self.upconv51_3(x)\n",
    "\n",
    "        k1v = self.upconv51_4(x)\n",
    "\n",
    "        padded_i2 = self.pad(i2)\n",
    "        padded_i1 = self.pad(i1)\n",
    "\n",
    "        return self.separable_conv(padded_i2, k2v, k2h) + self.separable_conv(padded_i1, k1v, k1h)\n",
    "\n",
    "    @staticmethod\n",
    "    def _check_gradients(func):\n",
    "        print('Starting gradient check...')\n",
    "        sep_kernel = OUTPUT_1D_KERNEL_SIZE\n",
    "        inputs = (\n",
    "            Variable(torch.randn(2, 3, sep_kernel, sep_kernel).cuda(), requires_grad=False),\n",
    "            Variable(torch.randn(2, sep_kernel, 1, 1).cuda(), requires_grad=True),\n",
    "            Variable(torch.randn(2, sep_kernel, 1, 1).cuda(), requires_grad=True),\n",
    "        )\n",
    "        test = gradcheck(func, inputs, eps=1e-3, atol=1e-3, rtol=1e-3)\n",
    "        print('Gradient check result:', test)\n",
    "\n",
    "    @staticmethod\n",
    "    def _conv_module(in_channels, out_channels, kernel, stride, padding, relu):\n",
    "        return torch.nn.Sequential(\n",
    "            torch.nn.Conv2d(in_channels, in_channels, kernel, stride, padding), relu,\n",
    "            torch.nn.Conv2d(in_channels, in_channels, kernel, stride, padding), relu,\n",
    "            torch.nn.Conv2d(in_channels, out_channels, kernel, stride, padding), relu,\n",
    "        )\n",
    "\n",
    "    @staticmethod\n",
    "    def _kernel_module(in_channels, out_channels, kernel, stride, padding, upsample, relu):\n",
    "        return torch.nn.Sequential(\n",
    "            torch.nn.Conv2d(in_channels, in_channels, kernel, stride, padding), relu,\n",
    "            torch.nn.Conv2d(in_channels, in_channels, kernel, stride, padding), relu,\n",
    "            torch.nn.Conv2d(in_channels, out_channels, kernel, stride, padding), relu,\n",
    "            upsample,\n",
    "            torch.nn.Conv2d(out_channels, out_channels, kernel, stride, padding)\n",
    "        )\n",
    "\n",
    "    @staticmethod\n",
    "    def _upsample_module(in_channels, out_channels, kernel, stride, padding, upsample, relu):\n",
    "        return torch.nn.Sequential(\n",
    "            upsample, torch.nn.Conv2d(in_channels, out_channels, kernel, stride, padding), relu,\n",
    "        )\n",
    "\n",
    "    @staticmethod\n",
    "    def _weight_init(m):\n",
    "        if isinstance(m, nn.Conv2d):\n",
    "            init.orthogonal_(m.weight, init.calculate_gain('relu'))"
   ]
  },
  {
   "cell_type": "code",
   "execution_count": null,
   "metadata": {},
   "outputs": [],
   "source": []
  },
  {
   "cell_type": "code",
   "execution_count": null,
   "metadata": {},
   "outputs": [],
   "source": []
  },
  {
   "cell_type": "code",
   "execution_count": null,
   "metadata": {},
   "outputs": [],
   "source": []
  },
  {
   "cell_type": "code",
   "execution_count": null,
   "metadata": {},
   "outputs": [],
   "source": []
  },
  {
   "cell_type": "code",
   "execution_count": null,
   "metadata": {},
   "outputs": [],
   "source": []
  },
  {
   "cell_type": "code",
   "execution_count": null,
   "metadata": {},
   "outputs": [],
   "source": []
  },
  {
   "cell_type": "code",
   "execution_count": 7,
   "metadata": {},
   "outputs": [
    {
     "name": "stdout",
     "output_type": "stream",
     "text": [
      "===> No GPU found, proceeding with CPU...\n"
     ]
    }
   ],
   "source": [
    "if torch.cuda.is_available():\n",
    "    print(\"===> CUDA available, proceeding with GPU...\")\n",
    "    device = torch.device(\"cuda\")\n",
    "else:\n",
    "    print(\"===> No GPU found, proceeding with CPU...\")\n",
    "    device = torch.device(\"cpu\")"
   ]
  },
  {
   "cell_type": "code",
   "execution_count": 8,
   "metadata": {},
   "outputs": [
    {
     "data": {
      "text/plain": [
       "False"
      ]
     },
     "execution_count": 8,
     "metadata": {},
     "output_type": "execute_result"
    }
   ],
   "source": [
    "torch.cuda.is_available()"
   ]
  },
  {
   "cell_type": "code",
   "execution_count": 10,
   "metadata": {},
   "outputs": [],
   "source": [
    "# print('===> Loading datasets...')\n",
    "# train_set = dataset_preparation.get_training_set()\n",
    "# validation_set = dataset_preparation.get_validation_set()\n",
    "\n",
    "# training_data_loader = DataLoader(dataset=train_set, batch_size=BATCH_SIZE,shuffle=True)\n",
    "# validation_data_loader = DataLoader(dataset=validation_set,batch_size=BATCH_SIZE, shuffle=False)"
   ]
  },
  {
   "cell_type": "code",
   "execution_count": 11,
   "metadata": {},
   "outputs": [
    {
     "name": "stdout",
     "output_type": "stream",
     "text": [
      "===> Building model...\n",
      "Initializing weights...\n"
     ]
    },
    {
     "data": {
      "text/plain": [
       "Net(\n",
       "  (pool): AvgPool2d(kernel_size=(2, 2), stride=(2, 2), padding=0)\n",
       "  (upsamp): Upsample(scale_factor=2, mode=bilinear)\n",
       "  (relu): ReLU()\n",
       "  (conv32): Sequential(\n",
       "    (0): Conv2d(6, 6, kernel_size=(3, 3), stride=(1, 1), padding=(1, 1))\n",
       "    (1): ReLU()\n",
       "    (2): Conv2d(6, 6, kernel_size=(3, 3), stride=(1, 1), padding=(1, 1))\n",
       "    (3): ReLU()\n",
       "    (4): Conv2d(6, 32, kernel_size=(3, 3), stride=(1, 1), padding=(1, 1))\n",
       "    (5): ReLU()\n",
       "  )\n",
       "  (conv64): Sequential(\n",
       "    (0): Conv2d(32, 32, kernel_size=(3, 3), stride=(1, 1), padding=(1, 1))\n",
       "    (1): ReLU()\n",
       "    (2): Conv2d(32, 32, kernel_size=(3, 3), stride=(1, 1), padding=(1, 1))\n",
       "    (3): ReLU()\n",
       "    (4): Conv2d(32, 64, kernel_size=(3, 3), stride=(1, 1), padding=(1, 1))\n",
       "    (5): ReLU()\n",
       "  )\n",
       "  (conv128): Sequential(\n",
       "    (0): Conv2d(64, 64, kernel_size=(3, 3), stride=(1, 1), padding=(1, 1))\n",
       "    (1): ReLU()\n",
       "    (2): Conv2d(64, 64, kernel_size=(3, 3), stride=(1, 1), padding=(1, 1))\n",
       "    (3): ReLU()\n",
       "    (4): Conv2d(64, 128, kernel_size=(3, 3), stride=(1, 1), padding=(1, 1))\n",
       "    (5): ReLU()\n",
       "  )\n",
       "  (conv256): Sequential(\n",
       "    (0): Conv2d(128, 128, kernel_size=(3, 3), stride=(1, 1), padding=(1, 1))\n",
       "    (1): ReLU()\n",
       "    (2): Conv2d(128, 128, kernel_size=(3, 3), stride=(1, 1), padding=(1, 1))\n",
       "    (3): ReLU()\n",
       "    (4): Conv2d(128, 256, kernel_size=(3, 3), stride=(1, 1), padding=(1, 1))\n",
       "    (5): ReLU()\n",
       "  )\n",
       "  (conv512): Sequential(\n",
       "    (0): Conv2d(256, 256, kernel_size=(3, 3), stride=(1, 1), padding=(1, 1))\n",
       "    (1): ReLU()\n",
       "    (2): Conv2d(256, 256, kernel_size=(3, 3), stride=(1, 1), padding=(1, 1))\n",
       "    (3): ReLU()\n",
       "    (4): Conv2d(256, 512, kernel_size=(3, 3), stride=(1, 1), padding=(1, 1))\n",
       "    (5): ReLU()\n",
       "  )\n",
       "  (conv512x512): Sequential(\n",
       "    (0): Conv2d(512, 512, kernel_size=(3, 3), stride=(1, 1), padding=(1, 1))\n",
       "    (1): ReLU()\n",
       "    (2): Conv2d(512, 512, kernel_size=(3, 3), stride=(1, 1), padding=(1, 1))\n",
       "    (3): ReLU()\n",
       "    (4): Conv2d(512, 512, kernel_size=(3, 3), stride=(1, 1), padding=(1, 1))\n",
       "    (5): ReLU()\n",
       "  )\n",
       "  (upsamp512): Sequential(\n",
       "    (0): Upsample(scale_factor=2, mode=bilinear)\n",
       "    (1): Conv2d(512, 512, kernel_size=(3, 3), stride=(1, 1), padding=(1, 1))\n",
       "    (2): ReLU()\n",
       "  )\n",
       "  (upconv256): Sequential(\n",
       "    (0): Conv2d(512, 512, kernel_size=(3, 3), stride=(1, 1), padding=(1, 1))\n",
       "    (1): ReLU()\n",
       "    (2): Conv2d(512, 512, kernel_size=(3, 3), stride=(1, 1), padding=(1, 1))\n",
       "    (3): ReLU()\n",
       "    (4): Conv2d(512, 256, kernel_size=(3, 3), stride=(1, 1), padding=(1, 1))\n",
       "    (5): ReLU()\n",
       "  )\n",
       "  (upsamp256): Sequential(\n",
       "    (0): Upsample(scale_factor=2, mode=bilinear)\n",
       "    (1): Conv2d(256, 256, kernel_size=(3, 3), stride=(1, 1), padding=(1, 1))\n",
       "    (2): ReLU()\n",
       "  )\n",
       "  (upconv128): Sequential(\n",
       "    (0): Conv2d(256, 256, kernel_size=(3, 3), stride=(1, 1), padding=(1, 1))\n",
       "    (1): ReLU()\n",
       "    (2): Conv2d(256, 256, kernel_size=(3, 3), stride=(1, 1), padding=(1, 1))\n",
       "    (3): ReLU()\n",
       "    (4): Conv2d(256, 128, kernel_size=(3, 3), stride=(1, 1), padding=(1, 1))\n",
       "    (5): ReLU()\n",
       "  )\n",
       "  (upsamp128): Sequential(\n",
       "    (0): Upsample(scale_factor=2, mode=bilinear)\n",
       "    (1): Conv2d(128, 128, kernel_size=(3, 3), stride=(1, 1), padding=(1, 1))\n",
       "    (2): ReLU()\n",
       "  )\n",
       "  (upconv64): Sequential(\n",
       "    (0): Conv2d(128, 128, kernel_size=(3, 3), stride=(1, 1), padding=(1, 1))\n",
       "    (1): ReLU()\n",
       "    (2): Conv2d(128, 128, kernel_size=(3, 3), stride=(1, 1), padding=(1, 1))\n",
       "    (3): ReLU()\n",
       "    (4): Conv2d(128, 64, kernel_size=(3, 3), stride=(1, 1), padding=(1, 1))\n",
       "    (5): ReLU()\n",
       "  )\n",
       "  (upsamp64): Sequential(\n",
       "    (0): Upsample(scale_factor=2, mode=bilinear)\n",
       "    (1): Conv2d(64, 64, kernel_size=(3, 3), stride=(1, 1), padding=(1, 1))\n",
       "    (2): ReLU()\n",
       "  )\n",
       "  (upconv51_1): Sequential(\n",
       "    (0): Conv2d(64, 64, kernel_size=(3, 3), stride=(1, 1), padding=(1, 1))\n",
       "    (1): ReLU()\n",
       "    (2): Conv2d(64, 64, kernel_size=(3, 3), stride=(1, 1), padding=(1, 1))\n",
       "    (3): ReLU()\n",
       "    (4): Conv2d(64, 51, kernel_size=(3, 3), stride=(1, 1), padding=(1, 1))\n",
       "    (5): ReLU()\n",
       "    (6): Upsample(scale_factor=2, mode=bilinear)\n",
       "    (7): Conv2d(51, 51, kernel_size=(3, 3), stride=(1, 1), padding=(1, 1))\n",
       "  )\n",
       "  (upconv51_2): Sequential(\n",
       "    (0): Conv2d(64, 64, kernel_size=(3, 3), stride=(1, 1), padding=(1, 1))\n",
       "    (1): ReLU()\n",
       "    (2): Conv2d(64, 64, kernel_size=(3, 3), stride=(1, 1), padding=(1, 1))\n",
       "    (3): ReLU()\n",
       "    (4): Conv2d(64, 51, kernel_size=(3, 3), stride=(1, 1), padding=(1, 1))\n",
       "    (5): ReLU()\n",
       "    (6): Upsample(scale_factor=2, mode=bilinear)\n",
       "    (7): Conv2d(51, 51, kernel_size=(3, 3), stride=(1, 1), padding=(1, 1))\n",
       "  )\n",
       "  (upconv51_3): Sequential(\n",
       "    (0): Conv2d(64, 64, kernel_size=(3, 3), stride=(1, 1), padding=(1, 1))\n",
       "    (1): ReLU()\n",
       "    (2): Conv2d(64, 64, kernel_size=(3, 3), stride=(1, 1), padding=(1, 1))\n",
       "    (3): ReLU()\n",
       "    (4): Conv2d(64, 51, kernel_size=(3, 3), stride=(1, 1), padding=(1, 1))\n",
       "    (5): ReLU()\n",
       "    (6): Upsample(scale_factor=2, mode=bilinear)\n",
       "    (7): Conv2d(51, 51, kernel_size=(3, 3), stride=(1, 1), padding=(1, 1))\n",
       "  )\n",
       "  (upconv51_4): Sequential(\n",
       "    (0): Conv2d(64, 64, kernel_size=(3, 3), stride=(1, 1), padding=(1, 1))\n",
       "    (1): ReLU()\n",
       "    (2): Conv2d(64, 64, kernel_size=(3, 3), stride=(1, 1), padding=(1, 1))\n",
       "    (3): ReLU()\n",
       "    (4): Conv2d(64, 51, kernel_size=(3, 3), stride=(1, 1), padding=(1, 1))\n",
       "    (5): ReLU()\n",
       "    (6): Upsample(scale_factor=2, mode=bilinear)\n",
       "    (7): Conv2d(51, 51, kernel_size=(3, 3), stride=(1, 1), padding=(1, 1))\n",
       "  )\n",
       "  (pad): ReplicationPad2d((25, 25, 25, 25))\n",
       "  (separable_conv): SeparableConvolutionSlow()\n",
       ")"
      ]
     },
     "execution_count": 11,
     "metadata": {},
     "output_type": "execute_result"
    }
   ],
   "source": [
    "print('===> Building model...')\n",
    "model = Net()\n",
    "model.to(device)"
   ]
  },
  {
   "cell_type": "code",
   "execution_count": null,
   "metadata": {},
   "outputs": [],
   "source": []
  },
  {
   "cell_type": "code",
   "execution_count": 12,
   "metadata": {},
   "outputs": [],
   "source": [
    "loss_function = nn.L1Loss()"
   ]
  },
  {
   "cell_type": "code",
   "execution_count": 15,
   "metadata": {},
   "outputs": [],
   "source": [
    "optimizer = optim.Adamax(model.parameters(), lr=0.001)"
   ]
  },
  {
   "cell_type": "code",
   "execution_count": null,
   "metadata": {},
   "outputs": [],
   "source": []
  },
  {
   "cell_type": "code",
   "execution_count": null,
   "metadata": {},
   "outputs": [],
   "source": []
  },
  {
   "cell_type": "code",
   "execution_count": null,
   "metadata": {},
   "outputs": [],
   "source": []
  },
  {
   "cell_type": "code",
   "execution_count": 19,
   "metadata": {},
   "outputs": [],
   "source": [
    "def train(epoch):\n",
    "    print(\"===> Training...\")\n",
    "    before_pass = [p.data.clone() for p in model.parameters()]\n",
    "    epoch_loss = 0\n",
    "    for iteration, batch in enumerate(training_data_loader, 1):\n",
    "        input, target = batch[0].to(device), batch[1].to(device)\n",
    "\n",
    "        optimizer.zero_grad()\n",
    "\n",
    "        print('Forward pass...')\n",
    "        output = model(input)\n",
    "\n",
    "        loss_ = loss_function(output, target)\n",
    "\n",
    "        print('Computing gradients...')\n",
    "        loss_.backward()\n",
    "\n",
    "        print('Gradients ready.')\n",
    "        optimizer.step()\n",
    "\n",
    "        loss_val = loss_.item()\n",
    "        epoch_loss += loss_val\n",
    "\n",
    "        print(\"===> Epoch[{}]({}/{}): Loss: {:.4f}\".format(epoch, iteration, len(training_data_loader), loss_val))\n",
    "\n",
    "    weight_l2s = 0\n",
    "    weight_diff_l2s = 0\n",
    "    gradient_l2s = 0\n",
    "    for i, p in enumerate(model.parameters()):\n",
    "        weight_l2s += p.data.norm(2)\n",
    "        weight_diff_l2s += (p.data - before_pass[i]).norm(2)\n",
    "        gradient_l2s += p.grad.norm(2)\n",
    "   \n",
    "    epoch_loss /= len(training_data_loader)\n",
    "    print(\"===> Epoch {} Complete: Avg. Loss: {:.4f}\".format(epoch, epoch_loss))"
   ]
  },
  {
   "cell_type": "code",
   "execution_count": null,
   "metadata": {},
   "outputs": [],
   "source": []
  },
  {
   "cell_type": "code",
   "execution_count": 20,
   "metadata": {},
   "outputs": [],
   "source": [
    "def validate(epoch):\n",
    "    print(\"===> Running validation...\")\n",
    "    ssmi = loss.SsimLoss()\n",
    "    valid_loss, valid_ssmi, valid_psnr = 0, 0, 0\n",
    "    iters = len(validation_data_loader)\n",
    "    with torch.no_grad():\n",
    "        for batch in validation_data_loader:\n",
    "            input, target = batch[0].to(device), batch[1].to(device)\n",
    "            output = model(input)\n",
    "            valid_loss += loss_function(output, target).item()\n",
    "            valid_ssmi -= ssmi(output, target).item()\n",
    "            valid_psnr += psnr(output, target).item()\n",
    "    valid_loss /= iters\n",
    "    valid_ssmi /= iters\n",
    "    valid_psnr /= iters\n",
    "    print(\"===> Validation loss: {:.4f}\".format(valid_loss))"
   ]
  },
  {
   "cell_type": "code",
   "execution_count": null,
   "metadata": {},
   "outputs": [],
   "source": [
    "OUTPUT_DIR = \"/....\""
   ]
  },
  {
   "cell_type": "code",
   "execution_count": 18,
   "metadata": {},
   "outputs": [],
   "source": [
    "def save_checkpoint(epoch):\n",
    "    model_out_path = \"model_epoch_{}.pth\".format(epoch)\n",
    "    model_out_path = join_paths(OUTPUT_DIR, model_out_path)\n",
    "    model_latest_path = join_paths(OUTPUT_DIR, 'model_epoch_latest.pth')\n",
    "    if not exists(OUTPUT_DIR):\n",
    "        makedirs(OUTPUT_DIR)\n",
    "    torch.save(model.cpu().state_dict(), model_out_path)\n",
    "    if exists(model_latest_path):\n",
    "        remove(model_latest_path)\n",
    "    link(model_out_path, model_latest_path)\n",
    "    print(\"Checkpoint saved to {}\".format(model_out_path))\n",
    "    if device.type != 'cpu':\n",
    "        model.cuda()"
   ]
  },
  {
   "cell_type": "code",
   "execution_count": null,
   "metadata": {},
   "outputs": [],
   "source": [
    "EPOCHS = 10"
   ]
  },
  {
   "cell_type": "code",
   "execution_count": 21,
   "metadata": {},
   "outputs": [],
   "source": [
    "# for epoch in range(1, EPOCHS + 1):\n",
    "#     train(epoch)\n",
    "#     save_checkpoint(epoch)\n",
    "#     validate(epoch)"
   ]
  },
  {
   "cell_type": "code",
   "execution_count": null,
   "metadata": {},
   "outputs": [],
   "source": []
  }
 ],
 "metadata": {
  "kernelspec": {
   "display_name": "Python (research)",
   "language": "python",
   "name": "research"
  },
  "language_info": {
   "codemirror_mode": {
    "name": "ipython",
    "version": 3
   },
   "file_extension": ".py",
   "mimetype": "text/x-python",
   "name": "python",
   "nbconvert_exporter": "python",
   "pygments_lexer": "ipython3",
   "version": "3.6.9"
  }
 },
 "nbformat": 4,
 "nbformat_minor": 2
}
