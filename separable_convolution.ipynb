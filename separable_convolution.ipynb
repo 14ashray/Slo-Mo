{
 "cells": [
  {
   "cell_type": "code",
   "execution_count": 1,
   "metadata": {},
   "outputs": [],
   "source": [
    "import torch as t\n",
    "import os\n",
    "import torch.multiprocessing as mp"
   ]
  },
  {
   "cell_type": "code",
   "execution_count": 2,
   "metadata": {},
   "outputs": [],
   "source": [
    "NUM_WORKERS: int = 0\n",
    "OUTPUT_1D_KERNEL_SIZE: int = 51"
   ]
  },
  {
   "cell_type": "code",
   "execution_count": 3,
   "metadata": {},
   "outputs": [],
   "source": [
    "class SeparableConvolutionSlow(t.nn.Module):\n",
    "    def __init__(self):\n",
    "        super(SeparableConvolutionSlow, self).__init__()\n",
    "    \n",
    "    def forward(self, im, vertical, horizontal):\n",
    "        n_b = im.size(0)\n",
    "        n_channels = im.size(1)\n",
    "        m = im.size(2)\n",
    "        m_out = m - FILTER_SIZE + 1\n",
    "        \n",
    "        assert im.size(2) == im.size(3)\n",
    "        assert vertical.size(0) == horizontal.size(0) == n_b\n",
    "        assert vertical.size(1) == horizontal.size(1) == FILTER_SIZE\n",
    "        assert vertical.size(2) == horizontal.size(2) == vertical.size(3) == horizontal.size(3) == m_out\n",
    "\n",
    "        output = im.new().resize_(n_b, n_channels, m_out, m_out).zero_()\n",
    "\n",
    "        return sep_conv(im, horizontal, vertical, output)"
   ]
  },
  {
   "cell_type": "code",
   "execution_count": 4,
   "metadata": {},
   "outputs": [],
   "source": [
    "def local_separable_conv_2d(im, horizontal, vertical, output=None):\n",
    "    \"\"\"im: [n_channels x m x m], horizontal: [51 x m x m], vertical: [51 x m x m]\n",
    "       -> return: [n_channels x (m - 50) x (m - 50)]\"\"\"\n",
    "    n_channels = im.size(0)\n",
    "    m = im.size(1)\n",
    "    m_out = m - FILTER_SIZE + 1\n",
    "    if output is None:\n",
    "        output = t.zeros((n_channels, m_out, m_out))\n",
    "    for row in range(m_out):\n",
    "        for col in range(m_out):\n",
    "            sub_patch = im[:, row:row + FILTER_SIZE, col:col + FILTER_SIZE]\n",
    "            local_horiz = horizontal[:, row, col]\n",
    "            local_vert = vertical[:, row, col].view(-1, 1)\n",
    "            output[:, row, col] = (sub_patch * local_horiz * local_vert).sum(dim=1).sum(dim=1)\n",
    "    return output"
   ]
  },
  {
   "cell_type": "code",
   "execution_count": 5,
   "metadata": {},
   "outputs": [],
   "source": [
    "def _sep_conv_worker(im, horizontal, vertical, output, worker_batch_size, offset):\n",
    "    n_b = im.size(0)\n",
    "    max_range = min(n_b, worker_batch_size+offset)\n",
    "    for b in range(offset, max_range):\n",
    "        local_separable_conv_2d(im[b], horizontal[b], vertical[b], output=output[b])\n",
    "    return output"
   ]
  },
  {
   "cell_type": "code",
   "execution_count": 6,
   "metadata": {},
   "outputs": [],
   "source": [
    "def sep_conv(im, horizontal, vertical, output):\n",
    "    \"\"\"\n",
    "    Runs the separable convolution on multiple images sequentially on a single thread\n",
    "    :param im: Input images as a tensor. im[0] must correspond to the first image of the batch\n",
    "    :param horizontal: Set of horizontal filters as a tensor\n",
    "    :param vertical: Set of vertical filters as a tensor\n",
    "    :param output: Tensor used as output. Same shape as im. Must be passed pre-allocated and initialized with zeros\n",
    "    :return: Tensor resulting from the convolution\n",
    "    \"\"\"\n",
    "    return _sep_conv_worker(im, horizontal, vertical, output, im.size(0), 0)"
   ]
  },
  {
   "cell_type": "code",
   "execution_count": null,
   "metadata": {},
   "outputs": [],
   "source": []
  }
 ],
 "metadata": {
  "kernelspec": {
   "display_name": "Python (research)",
   "language": "python",
   "name": "research"
  },
  "language_info": {
   "codemirror_mode": {
    "name": "ipython",
    "version": 3
   },
   "file_extension": ".py",
   "mimetype": "text/x-python",
   "name": "python",
   "nbconvert_exporter": "python",
   "pygments_lexer": "ipython3",
   "version": "3.6.9"
  }
 },
 "nbformat": 4,
 "nbformat_minor": 2
}
